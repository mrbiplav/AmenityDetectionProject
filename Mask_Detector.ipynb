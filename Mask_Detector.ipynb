{
  "nbformat": 4,
  "nbformat_minor": 0,
  "metadata": {
    "kernelspec": {
      "display_name": "Python 3",
      "language": "python",
      "name": "python3"
    },
    "language_info": {
      "codemirror_mode": {
        "name": "ipython",
        "version": 3
      },
      "file_extension": ".py",
      "mimetype": "text/x-python",
      "name": "python",
      "nbconvert_exporter": "python",
      "pygments_lexer": "ipython3",
      "version": "3.7.4"
    },
    "colab": {
      "name": "Mask Detector.ipynb",
      "provenance": [],
      "collapsed_sections": []
    }
  },
  "cells": [
    {
      "cell_type": "markdown",
      "metadata": {
        "id": "GrELGuD7_zzu"
      },
      "source": [
        "## Gathering Data"
      ]
    },
    {
      "cell_type": "code",
      "metadata": {
        "id": "NLuBIUM2_z0A"
      },
      "source": [
        "# Import opencv\n",
        "import cv2 \n",
        "\n",
        "# Import uuid\n",
        "import uuid"
      ],
      "execution_count": null,
      "outputs": []
    },
    {
      "cell_type": "code",
      "metadata": {
        "id": "0mTmkyAW_z0D"
      },
      "source": [
        "#  Image capture\n",
        "cap = cv2.VideoCapture(2)\n",
        "width = int(cap.get(cv2.CAP_PROP_FRAME_WIDTH))\n",
        "height = int(cap.get(cv2.CAP_PROP_FRAME_HEIGHT))"
      ],
      "execution_count": null,
      "outputs": []
    },
    {
      "cell_type": "code",
      "metadata": {
        "id": "x4FAkFKD_z0D"
      },
      "source": [
        "while True: \n",
        "    ret, frame = cap.read()\n",
        "    imgname = './Images/Table/{}.jpg'.format(str(uuid.uuid1()))\n",
        "    cv2.imwrite(imgname, frame)\n",
        "    cv2.imshow('frame', frame)\n",
        "    \n",
        "    if cv2.waitKey(1) & 0xFF == ord('q'):\n",
        "        break"
      ],
      "execution_count": null,
      "outputs": []
    },
    {
      "cell_type": "code",
      "metadata": {
        "id": "IevKs2QM_z0E"
      },
      "source": [
        "cap.release()\n",
        "cap.destroyAllWindows()"
      ],
      "execution_count": null,
      "outputs": []
    },
    {
      "cell_type": "markdown",
      "metadata": {
        "id": "pEhB1eoj_z0F"
      },
      "source": [
        "# Training Model - Watson Studio"
      ]
    },
    {
      "cell_type": "code",
      "metadata": {
        "id": "lDFU-fpW_z0K"
      },
      "source": [
        "# Done"
      ],
      "execution_count": null,
      "outputs": []
    },
    {
      "cell_type": "markdown",
      "metadata": {
        "id": "FDdqNmbA_z0M"
      },
      "source": [
        "# Testing"
      ]
    },
    {
      "cell_type": "code",
      "metadata": {
        "id": "NrmoAMmp_z0N"
      },
      "source": [
        "import json\n",
        "from ibm_watson import VisualRecognitionV4\n",
        "from ibm_watson.visual_recognition_v4 import FileWithMetadata, AnalyzeEnums\n",
        "from ibm_cloud_sdk_core.authenticators import IAMAuthenticator"
      ],
      "execution_count": null,
      "outputs": []
    },
    {
      "cell_type": "code",
      "metadata": {
        "id": "f8DDxc5V_z0O"
      },
      "source": [
        "apikey = 'API KEY'\n",
        "url = 'URL'\n",
        "collection = 'COLLECTION'"
      ],
      "execution_count": null,
      "outputs": []
    },
    {
      "cell_type": "code",
      "metadata": {
        "id": "eo_uhtTS_z0P"
      },
      "source": [
        "authenticator = IAMAuthenticator(apikey)\n",
        "service = VisualRecognitionV4('2021-03-19', authenticator=authenticator)\n",
        "service.set_service_url(url)"
      ],
      "execution_count": null,
      "outputs": []
    },
    {
      "cell_type": "code",
      "metadata": {
        "id": "7AL_GTE4_z0Q"
      },
      "source": [
        "path = 'PATH TO IMAGE'"
      ],
      "execution_count": null,
      "outputs": []
    },
    {
      "cell_type": "code",
      "metadata": {
        "id": "rICocx5G_z0Q"
      },
      "source": [
        "with open(path, 'rb') as table_img:\n",
        "    analyze_images = service.analyze(collection_ids=[collection], \n",
        "                                     features=[AnalyzeEnums.Features.OBJECTS.value], \n",
        "                                    images_file=[FileWithMetadata(table_img)]).get_result()"
      ],
      "execution_count": null,
      "outputs": []
    },
    {
      "cell_type": "code",
      "metadata": {
        "id": "jGrvfiSX_z0R"
      },
      "source": [
        "analyze_images"
      ],
      "execution_count": null,
      "outputs": []
    },
    {
      "cell_type": "markdown",
      "metadata": {
        "id": "Y1cQFSiM_z0R"
      },
      "source": [
        "# Visualise"
      ]
    },
    {
      "cell_type": "code",
      "metadata": {
        "id": "-UcAztiH_z0S"
      },
      "source": [
        "obj = analyze_images['images'][0]['objects']['collections'][0]['objects'][0]['object']\n",
        "coords = analyze_images['images'][0]['objects']['collections'][0]['objects'][0]['location']"
      ],
      "execution_count": null,
      "outputs": []
    },
    {
      "cell_type": "code",
      "metadata": {
        "id": "p7wMFAo4_z0S"
      },
      "source": [
        "coords"
      ],
      "execution_count": null,
      "outputs": []
    },
    {
      "cell_type": "code",
      "metadata": {
        "id": "9R4Epk8s_z0T"
      },
      "source": [
        "from matplotlib import pyplot as plt"
      ],
      "execution_count": null,
      "outputs": []
    },
    {
      "cell_type": "code",
      "metadata": {
        "id": "D4H5d5nh_z0T"
      },
      "source": [
        "img = cv2.imread(path)"
      ],
      "execution_count": null,
      "outputs": []
    },
    {
      "cell_type": "code",
      "metadata": {
        "id": "INcR6M96_z0T"
      },
      "source": [
        "img = cv2.cvtColor(img, cv2.COLOR_BGR2RGB)"
      ],
      "execution_count": null,
      "outputs": []
    },
    {
      "cell_type": "code",
      "metadata": {
        "id": "yBhz0WHs_z0U"
      },
      "source": [
        "font = cv2.FONT_HERSHEY_SIMPLEX\n",
        "img = cv2.putText(img, text=obj, org=(coords['left']+coords['width'], coords['top']+coords['height']), fontFace=font, fontScale=2, color=(0,255,0), thickness=5, lineType=cv2.LINE_AA)"
      ],
      "execution_count": null,
      "outputs": []
    },
    {
      "cell_type": "code",
      "metadata": {
        "id": "o5DWn0fx_z0U"
      },
      "source": [
        "plt.imshow(img)"
      ],
      "execution_count": null,
      "outputs": []
    },
    {
      "cell_type": "code",
      "metadata": {
        "id": "jpT8XPOl_z0V"
      },
      "source": [
        "obj"
      ],
      "execution_count": null,
      "outputs": []
    },
    {
      "cell_type": "code",
      "metadata": {
        "id": "bbGcNtU2_z0V"
      },
      "source": [
        ""
      ],
      "execution_count": null,
      "outputs": []
    }
  ]
}